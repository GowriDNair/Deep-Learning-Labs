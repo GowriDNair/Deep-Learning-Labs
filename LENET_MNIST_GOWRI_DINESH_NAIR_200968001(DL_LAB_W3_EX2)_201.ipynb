{
  "cells": [
    {
      "cell_type": "markdown",
      "source": [
        "###**Lenet-5 Architecture**"
      ],
      "metadata": {
        "id": "pqyYnoO7CFq1"
      }
    },
    {
      "cell_type": "markdown",
      "source": [
        "Importing standard libraries:"
      ],
      "metadata": {
        "id": "4Unx-6mcCLcU"
      }
    },
    {
      "cell_type": "code",
      "source": [
        "import pandas as pd\n",
        "import numpy as np\n",
        "import seaborn as sns\n",
        "from matplotlib import pyplot as plt\n",
        "import tensorflow as tf\n",
        "from sklearn.model_selection import train_test_split\n",
        "from keras.layers import Conv2D, MaxPooling2D, Dropout, Flatten, Dense"
      ],
      "outputs": [],
      "execution_count": null,
      "metadata": {
        "id": "YKUPw3zS20JX"
      }
    },
    {
      "cell_type": "code",
      "source": [
        "from tensorflow.keras.utils import to_categorical"
      ],
      "outputs": [],
      "execution_count": null,
      "metadata": {
        "id": "TQ0-9mxG3iNP"
      }
    },
    {
      "cell_type": "markdown",
      "source": [
        "Importing Data:"
      ],
      "metadata": {
        "id": "84rGgj1fCN4E"
      }
    },
    {
      "cell_type": "code",
      "source": [
        "mnist = tf.keras.datasets.mnist"
      ],
      "outputs": [],
      "execution_count": null,
      "metadata": {
        "id": "45wovxd73KXG"
      }
    },
    {
      "cell_type": "markdown",
      "source": [
        "Splitting Data into Train and Test Sets:"
      ],
      "metadata": {
        "id": "CohLvqzJCTo_"
      }
    },
    {
      "cell_type": "code",
      "source": [
        "(x_train , y_train) ,( x_test, y_test) = mnist.load_data()"
      ],
      "outputs": [],
      "execution_count": null,
      "metadata": {
        "id": "wvY-KguL3Jmf"
      }
    },
    {
      "cell_type": "code",
      "source": [
        "print(\"x train:\", x_train.shape)\n",
        "print(\"y train:\", y_train.shape)\n",
        "print(\"x test:\", x_test.shape)\n",
        "print(\"y test:\", y_test.shape)"
      ],
      "outputs": [
        {
          "output_type": "stream",
          "name": "stdout",
          "text": "x train: (60000, 28, 28)\ny train: (60000,)\nx test: (10000, 28, 28)\ny test: (10000,)\n"
        }
      ],
      "execution_count": null,
      "metadata": {
        "colab": {
          "base_uri": "https://localhost:8080/"
        },
        "id": "4vfAwwJz3NKX",
        "outputId": "8fe263a5-9f35-464e-e3cd-1268cce853cd"
      }
    },
    {
      "cell_type": "markdown",
      "source": [
        "####**Preprocessing Data:**"
      ],
      "metadata": {
        "id": "2Rr8lZodCY0t"
      }
    },
    {
      "cell_type": "markdown",
      "source": [
        "* The Lenet-5 architecture is built to handle inputs of size 32x32\n",
        "* But the MNIST dataset features images of size 28x28\n",
        "* Padding is used to accomodate for this difference"
      ],
      "metadata": {
        "id": "vGeB8ZIECazW"
      }
    },
    {
      "cell_type": "code",
      "source": [
        "x_train = np.pad(x_train,((0,0),(2,2),(2,2))) \n",
        "x_test = np.pad(x_test,((0,0),(2,2),(2,2))) "
      ],
      "outputs": [],
      "execution_count": null,
      "metadata": {
        "id": "2XfzZapM3j6_"
      }
    },
    {
      "cell_type": "markdown",
      "source": [
        "#####Normalizing values to decrease the time needed for optimizer to reach global optimum:"
      ],
      "metadata": {
        "id": "KJ6V9xfYC2hl"
      }
    },
    {
      "cell_type": "code",
      "source": [
        "x_train = x_train/255.0 \n",
        "x_test = x_test/255.0"
      ],
      "outputs": [],
      "execution_count": null,
      "metadata": {
        "id": "FUSqe3yD4Peu"
      }
    },
    {
      "cell_type": "markdown",
      "source": [
        "Converting the target variable's value into categories"
      ],
      "metadata": {
        "id": "fNt2pN1rC3rt"
      }
    },
    {
      "cell_type": "code",
      "source": [
        "y_train=to_categorical(y_train,10)\n",
        "y_test=to_categorical(y_test,10)"
      ],
      "outputs": [],
      "execution_count": null,
      "metadata": {
        "id": "cocjxdTn4UQY"
      }
    },
    {
      "cell_type": "markdown",
      "source": [
        "The Lenet-5 model requires an additional dimension. So instead of inputs of size 32x32 , we require inputs of size 32x32x1 inputs."
      ],
      "metadata": {
        "id": "Pu4-utRyDIYt"
      }
    },
    {
      "cell_type": "code",
      "source": [
        "x_train=np.expand_dims(x_train,3)\n",
        "x_test=np.expand_dims(x_test,3)"
      ],
      "outputs": [],
      "execution_count": null,
      "metadata": {
        "id": "SQGbk4Ud4bRG"
      }
    },
    {
      "cell_type": "markdown",
      "source": [
        "Train and Test Sets After Preprocessing:"
      ],
      "metadata": {
        "id": "XgSQRtegCvPN"
      }
    },
    {
      "cell_type": "code",
      "source": [
        "print(\"x train:\", x_train.shape)\n",
        "print(\"y train:\", y_train.shape)\n",
        "print(\"x test:\", x_test.shape)\n",
        "print(\"y test:\", y_test.shape)"
      ],
      "outputs": [
        {
          "output_type": "stream",
          "name": "stdout",
          "text": "x train: (60000, 32, 32, 1)\ny train: (60000, 10)\nx test: (10000, 32, 32, 1)\ny test: (10000, 10)\n"
        }
      ],
      "execution_count": null,
      "metadata": {
        "colab": {
          "base_uri": "https://localhost:8080/"
        },
        "id": "LCPyGrpDCtys",
        "outputId": "a32de1c5-3426-49b7-bdb4-d1733599a9ea"
      }
    },
    {
      "cell_type": "markdown",
      "source": [
        "####**Building the Model:**"
      ],
      "metadata": {
        "id": "fxLvA-BpDie-"
      }
    },
    {
      "cell_type": "code",
      "source": [
        "model = tf.keras.Sequential(name=\"LeNet-5\")"
      ],
      "outputs": [],
      "execution_count": null,
      "metadata": {
        "id": "bWXtytK14kqv"
      }
    },
    {
      "cell_type": "code",
      "source": [
        "model.add(Conv2D(6,(5,5), strides=(1,1), activation='tanh', input_shape=(32,32,1), name='convolutional_layer_1'))\n",
        "model.add(MaxPooling2D(name='subsampling_layer_1'))\n",
        "model.add(Conv2D(16,(5,5),strides=(1,1),activation='tanh',name='convolutional_layer_2')) \n",
        "model.add(MaxPooling2D(name='subsampling_layer_2')) "
      ],
      "outputs": [],
      "execution_count": null,
      "metadata": {
        "id": "y95fJGM54wTO"
      }
    },
    {
      "cell_type": "code",
      "source": [
        "model.add(Flatten())\n",
        "model.add(Dense(120,activation='tanh',name='fully_connected_layer_5')) \n",
        "model.add(Dense(84,activation='tanh',name='fully_connected_layer_6')) \n",
        "model.add(Dense(10,activation='softmax',name='output_layer')) "
      ],
      "outputs": [],
      "execution_count": null,
      "metadata": {
        "id": "ie1Ifwhl5o0e"
      }
    },
    {
      "cell_type": "markdown",
      "source": [
        "Compiling and training the model:"
      ],
      "metadata": {
        "id": "LKpDUFPlDlll"
      }
    },
    {
      "cell_type": "code",
      "source": [
        "model.compile(optimizer='adam',loss='categorical_crossentropy',metrics=['accuracy'])"
      ],
      "outputs": [],
      "execution_count": null,
      "metadata": {
        "id": "P6TQowUR568V"
      }
    },
    {
      "cell_type": "code",
      "source": [
        "model.summary()"
      ],
      "outputs": [
        {
          "output_type": "stream",
          "name": "stdout",
          "text": "Model: \"LeNet-5\"\n_________________________________________________________________\n Layer (type)                Output Shape              Param #   \n=================================================================\n convolutional_layer_1 (Conv  (None, 28, 28, 6)        156       \n 2D)                                                             \n                                                                 \n subsampling_layer_1 (MaxPoo  (None, 14, 14, 6)        0         \n ling2D)                                                         \n                                                                 \n convolutional_layer_2 (Conv  (None, 10, 10, 16)       2416      \n 2D)                                                             \n                                                                 \n subsampling_layer_2 (MaxPoo  (None, 5, 5, 16)         0         \n ling2D)                                                         \n                                                                 \n flatten_1 (Flatten)         (None, 400)               0         \n                                                                 \n fully_connected_layer_5 (De  (None, 120)              48120     \n nse)                                                            \n                                                                 \n fully_connected_layer_6 (De  (None, 84)               10164     \n nse)                                                            \n                                                                 \n output_layer (Dense)        (None, 10)                850       \n                                                                 \n=================================================================\nTotal params: 61,706\nTrainable params: 61,706\nNon-trainable params: 0\n_________________________________________________________________\n"
        }
      ],
      "execution_count": null,
      "metadata": {
        "id": "aFmpHdBt58Ld",
        "outputId": "7b8bdbba-a1e0-4f53-e9cb-75aa47f66cb2",
        "colab": {
          "base_uri": "https://localhost:8080/"
        }
      }
    },
    {
      "cell_type": "code",
      "source": [
        "history = model.fit(x_train, y_train, batch_size = 40, epochs = 15, validation_split = 0.1)"
      ],
      "outputs": [
        {
          "output_type": "stream",
          "name": "stdout",
          "text": "Epoch 1/15\n1350/1350 [==============================] - 38s 27ms/step - loss: 0.1761 - accuracy: 0.9476 - val_loss: 0.0611 - val_accuracy: 0.9840\nEpoch 2/15\n1350/1350 [==============================] - 38s 28ms/step - loss: 0.0583 - accuracy: 0.9823 - val_loss: 0.0504 - val_accuracy: 0.9842\nEpoch 3/15\n1350/1350 [==============================] - 37s 28ms/step - loss: 0.0406 - accuracy: 0.9876 - val_loss: 0.0521 - val_accuracy: 0.9842\nEpoch 4/15\n1350/1350 [==============================] - 38s 28ms/step - loss: 0.0302 - accuracy: 0.9904 - val_loss: 0.0438 - val_accuracy: 0.9877\nEpoch 5/15\n1350/1350 [==============================] - 37s 27ms/step - loss: 0.0228 - accuracy: 0.9931 - val_loss: 0.0485 - val_accuracy: 0.9872\nEpoch 6/15\n1350/1350 [==============================] - 36s 26ms/step - loss: 0.0184 - accuracy: 0.9946 - val_loss: 0.0459 - val_accuracy: 0.9888\nEpoch 7/15\n1350/1350 [==============================] - 37s 27ms/step - loss: 0.0144 - accuracy: 0.9955 - val_loss: 0.0473 - val_accuracy: 0.9875\nEpoch 8/15\n1350/1350 [==============================] - 36s 27ms/step - loss: 0.0126 - accuracy: 0.9959 - val_loss: 0.0458 - val_accuracy: 0.9890\nEpoch 9/15\n1350/1350 [==============================] - 36s 27ms/step - loss: 0.0096 - accuracy: 0.9969 - val_loss: 0.0454 - val_accuracy: 0.9895\nEpoch 10/15\n1350/1350 [==============================] - 35s 26ms/step - loss: 0.0100 - accuracy: 0.9966 - val_loss: 0.0477 - val_accuracy: 0.9880\nEpoch 11/15\n1350/1350 [==============================] - 36s 27ms/step - loss: 0.0095 - accuracy: 0.9967 - val_loss: 0.0523 - val_accuracy: 0.9870\nEpoch 12/15\n1350/1350 [==============================] - 35s 26ms/step - loss: 0.0076 - accuracy: 0.9974 - val_loss: 0.0597 - val_accuracy: 0.9880\nEpoch 13/15\n1350/1350 [==============================] - 36s 27ms/step - loss: 0.0057 - accuracy: 0.9981 - val_loss: 0.0749 - val_accuracy: 0.9828\nEpoch 14/15\n1350/1350 [==============================] - 37s 27ms/step - loss: 0.0072 - accuracy: 0.9975 - val_loss: 0.0513 - val_accuracy: 0.9897\nEpoch 15/15\n1350/1350 [==============================] - 39s 29ms/step - loss: 0.0056 - accuracy: 0.9980 - val_loss: 0.0456 - val_accuracy: 0.9905\n"
        }
      ],
      "execution_count": null,
      "metadata": {
        "colab": {
          "base_uri": "https://localhost:8080/"
        },
        "id": "1KD8jcJ86NF4",
        "outputId": "4b2bf2ee-e40f-4f97-86e4-5ce61f6ce13d"
      }
    },
    {
      "cell_type": "markdown",
      "source": [
        "####**Testing the model:**"
      ],
      "metadata": {
        "id": "oxWxDHLyDpFV"
      }
    },
    {
      "cell_type": "markdown",
      "source": [
        "* The model performs well with a high accuracy value and low loss value\n",
        "* The Lenet-5 Model performs slightly better than the CNN created for the first exercise as it has a lower loss value and higher accuracy value\n",
        "* This means the network predicts true positives and true negatives well\n",
        "* Loss refers to the overall difference between the predicted versus actual outcome. The lower this value, the better your model performs on your data\n"
      ],
      "metadata": {
        "id": "LgyZf_zoDsaV"
      }
    },
    {
      "cell_type": "code",
      "source": [
        "model.evaluate(x_test, y_test)"
      ],
      "outputs": [
        {
          "output_type": "stream",
          "name": "stdout",
          "text": "313/313 [==============================] - 3s 10ms/step - loss: 0.0402 - accuracy: 0.9900\n"
        },
        {
          "output_type": "execute_result",
          "execution_count": 30,
          "data": {
            "text/plain": "[0.04022732004523277, 0.9900000095367432]"
          },
          "metadata": {}
        }
      ],
      "execution_count": null,
      "metadata": {
        "colab": {
          "base_uri": "https://localhost:8080/"
        },
        "id": "hFdaob006Y2V",
        "outputId": "acc2d923-fe23-454b-9d3f-5028821f58ca"
      }
    },
    {
      "cell_type": "markdown",
      "source": [
        "####**Plotting the Model's Performance:**"
      ],
      "metadata": {
        "id": "LdGGLs-eG-b0"
      }
    },
    {
      "cell_type": "code",
      "source": [
        "plt.plot(history.history['loss'])\n",
        "plt.plot(history.history['val_loss'])\n",
        "plt.title('Model Loss')\n",
        "plt.ylabel('Loss')\n",
        "plt.xlabel('Epoch')\n",
        "plt.legend(['Train', 'Test'], loc='upper left')\n",
        "plt.show()"
      ],
      "outputs": [
        {
          "output_type": "display_data",
          "data": {
            "text/plain": "<Figure size 432x288 with 1 Axes>",
            "image/png": "[encoded data removed]"
          },
          "metadata": {
            "needs_background": "light"
          }
        }
      ],
      "execution_count": null,
      "metadata": {
        "colab": {
          "base_uri": "https://localhost:8080/",
          "height": 295
        },
        "id": "3BNhnMQZHCUk",
        "outputId": "dff186ed-2a52-4ac8-8399-abef3e62ecbd"
      }
    },
    {
      "cell_type": "code",
      "source": [
        "plt.plot(history.history['accuracy'])\n",
        "plt.plot(history.history['val_accuracy'])\n",
        "plt.title('Model Accuracy')\n",
        "plt.ylabel('Accuracy')\n",
        "plt.xlabel('Epoch')\n",
        "plt.legend(['Train', 'Test'], loc='upper left')\n",
        "plt.show()"
      ],
      "outputs": [
        {
          "output_type": "display_data",
          "data": {
            "text/plain": "<Figure size 432x288 with 1 Axes>",
            "image/png": "[encoded data removed]"
          },
          "metadata": {
            "needs_background": "light"
          }
        }
      ],
      "execution_count": null,
      "metadata": {
        "colab": {
          "base_uri": "https://localhost:8080/",
          "height": 295
        },
        "id": "wwzxzM6bHD4G",
        "outputId": "71208ec3-48ca-4c52-945c-1c86ce8ab21e"
      }
    }
  ],
  "metadata": {
    "colab": {
      "provenance": []
    },
    "kernelspec": {
      "name": "python3",
      "display_name": "Python 3"
    },
    "language_info": {
      "name": "python"
    },
    "nteract": {
      "version": "nteract-front-end@1.0.0"
    }
  },
  "nbformat": 4,
  "nbformat_minor": 0
}