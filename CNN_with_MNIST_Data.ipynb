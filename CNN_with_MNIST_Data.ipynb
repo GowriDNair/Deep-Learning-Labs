{
  "cells": [
    {
      "cell_type": "markdown",
      "source": [
        "## 🔢 **CNN with MNIST Data** 📈"
      ],
      "metadata": {
        "id": "8AEs79mwnGdy"
      }
    },
    {
      "cell_type": "markdown",
      "source": [
        "## **Q1. Design a CNN with:**\n",
        "* **a) One Convolution layer which uses 32 kernels each of size 3x3, stride = 1 and, padding =0**\n",
        "* **b) One Pooling layerwhich uses MAXPOOLINGwith stride =2.**\n",
        "* **c) One hidden layer having number of neurons = 100**\n",
        "* **Note: use ReLU activation function after each convolution layer.**"
      ],
      "metadata": {
        "id": "6OJVfHf9EWrt"
      }
    },
    {
      "cell_type": "markdown",
      "source": [
        "Importing Libraries:"
      ],
      "metadata": {
        "id": "eGZgrdjK-MlG"
      }
    },
    {
      "cell_type": "code",
      "source": [
        "import pandas as pd\n",
        "import numpy as np\n",
        "import seaborn as sns\n",
        "from matplotlib import pyplot as plt\n",
        "import tensorflow as tf\n",
        "from sklearn.model_selection import train_test_split"
      ],
      "outputs": [],
      "execution_count": null,
      "metadata": {
        "id": "b60_S2NBmHGc"
      }
    },
    {
      "cell_type": "code",
      "source": [
        "from keras.layers import Conv2D, MaxPooling2D, Dropout, Flatten"
      ],
      "outputs": [],
      "execution_count": null,
      "metadata": {
        "id": "8k6Hjb_zr_OI"
      }
    },
    {
      "cell_type": "markdown",
      "source": [
        "Importing Data:"
      ],
      "metadata": {
        "id": "27TKvbwx-TW2"
      }
    },
    {
      "cell_type": "code",
      "source": [
        "mnist = tf.keras.datasets.mnist"
      ],
      "outputs": [],
      "execution_count": null,
      "metadata": {
        "id": "x5w21hM-n5hV"
      }
    },
    {
      "cell_type": "markdown",
      "source": [
        "Splitting Data into Train and Test sets:"
      ],
      "metadata": {
        "id": "b9ZezkInCQr1"
      }
    },
    {
      "cell_type": "code",
      "source": [
        "(x_train, y_train), (x_test, y_test) = mnist.load_data()\n",
        "\n",
        "print(\"x train:\", x_train.shape)\n",
        "print(\"y train:\", y_train.shape)\n",
        "print(\"x test:\", x_test.shape)\n",
        "print(\"y test:\", y_test.shape)"
      ],
      "outputs": [
        {
          "output_type": "stream",
          "name": "stdout",
          "text": "Downloading data from https://storage.googleapis.com/tensorflow/tf-keras-datasets/mnist.npz\n11493376/11490434 [==============================] - 0s 0us/step\n11501568/11490434 [==============================] - 0s 0us/step\nx train: (60000, 28, 28)\ny train: (60000,)\nx test: (10000, 28, 28)\ny test: (10000,)\n"
        }
      ],
      "execution_count": null,
      "metadata": {
        "colab": {
          "base_uri": "https://localhost:8080/"
        },
        "id": "f6RVG45etFZH",
        "outputId": "6f3306b7-e0b7-4321-80a5-52221d34b34d"
      }
    },
    {
      "cell_type": "markdown",
      "source": [
        "####**Preprocessing Data:**"
      ],
      "metadata": {
        "id": "kVlrQxjM-Vxm"
      }
    },
    {
      "cell_type": "markdown",
      "source": [
        "#####Normalizing values to decrease the time needed for optimizer to reach global optimum:"
      ],
      "metadata": {
        "id": "grYH2hVO-YkF"
      }
    },
    {
      "cell_type": "code",
      "source": [
        "x_train = x_train/255.0\n",
        "x_test = x_test/255.0"
      ],
      "outputs": [],
      "execution_count": null,
      "metadata": {
        "id": "c67id04Tthtw"
      }
    },
    {
      "cell_type": "markdown",
      "source": [
        "####**Creating the Neural Network:**"
      ],
      "metadata": {
        "id": "_8Fw20ro_oGP"
      }
    },
    {
      "cell_type": "code",
      "source": [
        "model = tf.keras.Sequential()"
      ],
      "outputs": [],
      "execution_count": null,
      "metadata": {
        "id": "_HhkPKXko__o"
      }
    },
    {
      "cell_type": "markdown",
      "source": [
        "Adding the layers one by one:"
      ],
      "metadata": {
        "id": "yub1zR-X9TPz"
      }
    },
    {
      "cell_type": "code",
      "source": [
        "model.add(tf.keras.Input((28,28,1)))\n",
        "model.add(tf.keras.layers.Conv2D(32, strides = (1,1), kernel_size= (3,3), activation = \"relu\" , padding = \"valid\"))\n",
        "model.add(tf.keras.layers.MaxPooling2D(pool_size=(2,2), strides =  (2, 2)))\n",
        "model.add(tf.keras.layers.Flatten())\n",
        "model.add(tf.keras.layers.Dense(100, activation = \"relu\", name = \"hidden_layer_1\"))\n",
        "model.add(tf.keras.layers.Dense(10, activation = \"softmax\", name = \"outputLayer\"))"
      ],
      "outputs": [],
      "execution_count": null,
      "metadata": {
        "id": "lcZnd4-npce3"
      }
    },
    {
      "cell_type": "code",
      "source": [
        "model.summary()"
      ],
      "outputs": [
        {
          "output_type": "stream",
          "name": "stdout",
          "text": "Model: \"sequential\"\n_________________________________________________________________\n Layer (type)                Output Shape              Param #   \n=================================================================\n conv2d (Conv2D)             (None, 26, 26, 32)        320       \n                                                                 \n max_pooling2d (MaxPooling2D  (None, 13, 13, 32)       0         \n )                                                               \n                                                                 \n flatten (Flatten)           (None, 5408)              0         \n                                                                 \n hidden_layer_1 (Dense)      (None, 100)               540900    \n                                                                 \n outputLayer (Dense)         (None, 10)                1010      \n                                                                 \n=================================================================\nTotal params: 542,230\nTrainable params: 542,230\nNon-trainable params: 0\n_________________________________________________________________\n"
        }
      ],
      "execution_count": null,
      "metadata": {
        "colab": {
          "base_uri": "https://localhost:8080/"
        },
        "id": "eMRd6KuWsK8A",
        "outputId": "ef732a46-58f6-4775-bb14-2a7e30354e8c"
      }
    },
    {
      "cell_type": "markdown",
      "source": [
        "Compiling and Training the Model:"
      ],
      "metadata": {
        "id": "QVKuriSP_qBe"
      }
    },
    {
      "cell_type": "code",
      "source": [
        "model.compile(loss = \"sparse_categorical_crossentropy\", optimizer = \"adam\", metrics = [\"accuracy\"])"
      ],
      "outputs": [],
      "execution_count": null,
      "metadata": {
        "id": "LPgqiVkvsmCA"
      }
    },
    {
      "cell_type": "code",
      "source": [
        "history = model.fit(x_train, y_train, batch_size = 40, epochs = 15, validation_split = 0.1)"
      ],
      "outputs": [
        {
          "output_type": "stream",
          "name": "stdout",
          "text": "Epoch 1/15\n1350/1350 [==============================] - 17s 3ms/step - loss: 0.1813 - accuracy: 0.9457 - val_loss: 0.0643 - val_accuracy: 0.9833\nEpoch 2/15\n1350/1350 [==============================] - 4s 3ms/step - loss: 0.0598 - accuracy: 0.9819 - val_loss: 0.0652 - val_accuracy: 0.9827\nEpoch 3/15\n1350/1350 [==============================] - 4s 3ms/step - loss: 0.0407 - accuracy: 0.9876 - val_loss: 0.0613 - val_accuracy: 0.9838\nEpoch 4/15\n1350/1350 [==============================] - 4s 3ms/step - loss: 0.0280 - accuracy: 0.9915 - val_loss: 0.0489 - val_accuracy: 0.9878\nEpoch 5/15\n1350/1350 [==============================] - 4s 3ms/step - loss: 0.0196 - accuracy: 0.9936 - val_loss: 0.0509 - val_accuracy: 0.9888\nEpoch 6/15\n1350/1350 [==============================] - 4s 3ms/step - loss: 0.0138 - accuracy: 0.9954 - val_loss: 0.0551 - val_accuracy: 0.9878\nEpoch 7/15\n1350/1350 [==============================] - 4s 3ms/step - loss: 0.0102 - accuracy: 0.9969 - val_loss: 0.0644 - val_accuracy: 0.9852\nEpoch 8/15\n1350/1350 [==============================] - 4s 3ms/step - loss: 0.0083 - accuracy: 0.9972 - val_loss: 0.0689 - val_accuracy: 0.9865\nEpoch 9/15\n1350/1350 [==============================] - 4s 3ms/step - loss: 0.0064 - accuracy: 0.9980 - val_loss: 0.0694 - val_accuracy: 0.9853\nEpoch 10/15\n1350/1350 [==============================] - 4s 3ms/step - loss: 0.0065 - accuracy: 0.9978 - val_loss: 0.0725 - val_accuracy: 0.9892\nEpoch 11/15\n1350/1350 [==============================] - 4s 3ms/step - loss: 0.0042 - accuracy: 0.9987 - val_loss: 0.0656 - val_accuracy: 0.9863\nEpoch 12/15\n1350/1350 [==============================] - 5s 3ms/step - loss: 0.0049 - accuracy: 0.9983 - val_loss: 0.0722 - val_accuracy: 0.9863\nEpoch 13/15\n1350/1350 [==============================] - 4s 3ms/step - loss: 0.0025 - accuracy: 0.9993 - val_loss: 0.0811 - val_accuracy: 0.9853\nEpoch 14/15\n1350/1350 [==============================] - 4s 3ms/step - loss: 0.0048 - accuracy: 0.9985 - val_loss: 0.0742 - val_accuracy: 0.9885\nEpoch 15/15\n1350/1350 [==============================] - 4s 3ms/step - loss: 0.0022 - accuracy: 0.9993 - val_loss: 0.0729 - val_accuracy: 0.9882\n"
        }
      ],
      "execution_count": null,
      "metadata": {
        "colab": {
          "base_uri": "https://localhost:8080/"
        },
        "id": "k_Sdtfses0t3",
        "outputId": "2726d429-3a83-4a2e-8f71-7708944455b8"
      }
    },
    {
      "cell_type": "markdown",
      "source": [
        "####**Testing the Model:**"
      ],
      "metadata": {
        "id": "e9pNdpaVBFgu"
      }
    },
    {
      "cell_type": "markdown",
      "source": [
        "* The model performs well with a high accuracy value and low loss value.\n",
        "* This means the network predicts true positives and true negatives well\n",
        "* Loss refers to the overall difference between the predicted versus actual outcome. The lower this value, the better your model performs on your data.\n"
      ],
      "metadata": {
        "id": "ullMHgZzBLbn"
      }
    },
    {
      "cell_type": "code",
      "source": [
        "model.evaluate(x_test, y_test)"
      ],
      "outputs": [
        {
          "output_type": "stream",
          "name": "stdout",
          "text": "313/313 [==============================] - 1s 3ms/step - loss: 0.0659 - accuracy: 0.9875\n"
        },
        {
          "output_type": "execute_result",
          "execution_count": 11,
          "data": {
            "text/plain": "[0.0659392923116684, 0.987500011920929]"
          },
          "metadata": {}
        }
      ],
      "execution_count": null,
      "metadata": {
        "colab": {
          "base_uri": "https://localhost:8080/"
        },
        "id": "aEIWi9sYuVdw",
        "outputId": "ef7300f3-a23f-4dd5-efcb-a48f49ae5d50"
      }
    },
    {
      "cell_type": "markdown",
      "source": [
        "####**Plotting the Model's Performance:**"
      ],
      "metadata": {
        "id": "O0QDNr99G4jF"
      }
    },
    {
      "cell_type": "code",
      "source": [
        "plt.plot(history.history['loss'])\n",
        "plt.plot(history.history['val_loss'])\n",
        "plt.title('Model Loss')\n",
        "plt.ylabel('Loss')\n",
        "plt.xlabel('Epoch')\n",
        "plt.legend(['Train', 'Test'], loc='upper left')\n",
        "plt.show()"
      ],
      "outputs": [
        {
          "output_type": "display_data",
          "data": {
            "text/plain": "<Figure size 432x288 with 1 Axes>",
            "image/png": "[encoded data removed]"
          },
          "metadata": {
            "needs_background": "light"
          }
        }
      ],
      "execution_count": null,
      "metadata": {
        "colab": {
          "base_uri": "https://localhost:8080/",
          "height": 295
        },
        "id": "TptJksIwFAEN",
        "outputId": "b73be9d0-bde4-4c3e-f3a9-1d61f0fa2eba"
      }
    },
    {
      "cell_type": "markdown",
      "source": [
        "* According to the plot, the model may be overfitting\n",
        "* This is shown by the training loss continuing to decrease as the the number of epochs increase, while the test loss slightly increases"
      ],
      "metadata": {
        "id": "cMseimEU9cR1"
      }
    },
    {
      "cell_type": "code",
      "source": [
        "plt.plot(history.history['accuracy'])\n",
        "plt.plot(history.history['val_accuracy'])\n",
        "plt.title('Model Accuracy')\n",
        "plt.ylabel('Accuracy')\n",
        "plt.xlabel('Epoch')\n",
        "plt.legend(['Train', 'Test'], loc='upper left')\n",
        "plt.show()"
      ],
      "outputs": [
        {
          "output_type": "display_data",
          "data": {
            "text/plain": "<Figure size 432x288 with 1 Axes>",
            "image/png": "[encoded data removed]"
          },
          "metadata": {
            "needs_background": "light"
          }
        }
      ],
      "execution_count": null,
      "metadata": {
        "colab": {
          "base_uri": "https://localhost:8080/",
          "height": 295
        },
        "id": "-6lG_Y2JFE-l",
        "outputId": "e166551b-245f-419d-ed91-cab5073d5024"
      }
    },
    {
      "cell_type": "markdown",
      "source": [
        "The accuracy plot also suggests that the model is overfitting, as the training accuracy increases while the testing loss decreases "
      ],
      "metadata": {
        "id": "459oDiKd-3S2"
      }
    }
  ],
  "metadata": {
    "colab": {
      "provenance": []
    },
    "kernelspec": {
      "name": "python3",
      "display_name": "Python 3"
    },
    "language_info": {
      "name": "python"
    },
    "accelerator": "GPU",
    "gpuClass": "standard",
    "nteract": {
      "version": "nteract-front-end@1.0.0"
    }
  },
  "nbformat": 4,
  "nbformat_minor": 0
}